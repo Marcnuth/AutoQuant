{
 "cells": [
  {
   "cell_type": "code",
   "execution_count": 5,
   "id": "73ac773a",
   "metadata": {},
   "outputs": [],
   "source": [
    "# https://teddykoker.com/2019/05/momentum-strategy-from-stocks-on-the-move-in-python/\n",
    "\n",
    "import sys\n",
    "sys.path.append(\"../\")"
   ]
  },
  {
   "cell_type": "code",
   "execution_count": 6,
   "id": "e4cc64fe",
   "metadata": {},
   "outputs": [
    {
     "name": "stdout",
     "output_type": "stream",
     "text": [
      "[2022-08-15 14:18:29] [68972:8676972032] [DEBUG] [autoquant.log] log.py:<module>:32 AutoQuant logs will be printed in console\n",
      "login success!\n",
      "logout success!\n"
     ]
    },
    {
     "data": {
      "text/html": [
       "<div>\n",
       "<style scoped>\n",
       "    .dataframe tbody tr th:only-of-type {\n",
       "        vertical-align: middle;\n",
       "    }\n",
       "\n",
       "    .dataframe tbody tr th {\n",
       "        vertical-align: top;\n",
       "    }\n",
       "\n",
       "    .dataframe thead th {\n",
       "        text-align: right;\n",
       "    }\n",
       "</style>\n",
       "<table border=\"1\" class=\"dataframe\">\n",
       "  <thead>\n",
       "    <tr style=\"text-align: right;\">\n",
       "      <th></th>\n",
       "      <th>code</th>\n",
       "      <th>datetime</th>\n",
       "      <th>open</th>\n",
       "      <th>close</th>\n",
       "      <th>high</th>\n",
       "      <th>low</th>\n",
       "      <th>volume</th>\n",
       "      <th>turnover</th>\n",
       "      <th>pct_change</th>\n",
       "    </tr>\n",
       "    <tr>\n",
       "      <th>datetime</th>\n",
       "      <th></th>\n",
       "      <th></th>\n",
       "      <th></th>\n",
       "      <th></th>\n",
       "      <th></th>\n",
       "      <th></th>\n",
       "      <th></th>\n",
       "      <th></th>\n",
       "      <th></th>\n",
       "    </tr>\n",
       "  </thead>\n",
       "  <tbody>\n",
       "    <tr>\n",
       "      <th>2021-11-01</th>\n",
       "      <td>sz.002594</td>\n",
       "      <td>2021-11-01</td>\n",
       "      <td>301.41</td>\n",
       "      <td>302.00</td>\n",
       "      <td>308.41</td>\n",
       "      <td>293.82</td>\n",
       "      <td>28478587.0</td>\n",
       "      <td>8.570610e+09</td>\n",
       "      <td>-2.9906</td>\n",
       "    </tr>\n",
       "    <tr>\n",
       "      <th>2021-11-02</th>\n",
       "      <td>sz.002594</td>\n",
       "      <td>2021-11-02</td>\n",
       "      <td>310.00</td>\n",
       "      <td>313.88</td>\n",
       "      <td>319.80</td>\n",
       "      <td>307.64</td>\n",
       "      <td>29008740.0</td>\n",
       "      <td>9.102549e+09</td>\n",
       "      <td>3.9338</td>\n",
       "    </tr>\n",
       "    <tr>\n",
       "      <th>2021-11-03</th>\n",
       "      <td>sz.002594</td>\n",
       "      <td>2021-11-03</td>\n",
       "      <td>313.13</td>\n",
       "      <td>303.01</td>\n",
       "      <td>313.85</td>\n",
       "      <td>299.86</td>\n",
       "      <td>19724814.0</td>\n",
       "      <td>6.017080e+09</td>\n",
       "      <td>-3.4631</td>\n",
       "    </tr>\n",
       "    <tr>\n",
       "      <th>2021-11-04</th>\n",
       "      <td>sz.002594</td>\n",
       "      <td>2021-11-04</td>\n",
       "      <td>311.13</td>\n",
       "      <td>325.00</td>\n",
       "      <td>329.00</td>\n",
       "      <td>309.03</td>\n",
       "      <td>34996434.0</td>\n",
       "      <td>1.122398e+10</td>\n",
       "      <td>7.2572</td>\n",
       "    </tr>\n",
       "    <tr>\n",
       "      <th>2021-11-05</th>\n",
       "      <td>sz.002594</td>\n",
       "      <td>2021-11-05</td>\n",
       "      <td>324.00</td>\n",
       "      <td>314.00</td>\n",
       "      <td>327.00</td>\n",
       "      <td>313.01</td>\n",
       "      <td>19418326.0</td>\n",
       "      <td>6.178126e+09</td>\n",
       "      <td>-3.3846</td>\n",
       "    </tr>\n",
       "  </tbody>\n",
       "</table>\n",
       "</div>"
      ],
      "text/plain": [
       "                 code   datetime    open   close    high     low      volume  \\\n",
       "datetime                                                                       \n",
       "2021-11-01  sz.002594 2021-11-01  301.41  302.00  308.41  293.82  28478587.0   \n",
       "2021-11-02  sz.002594 2021-11-02  310.00  313.88  319.80  307.64  29008740.0   \n",
       "2021-11-03  sz.002594 2021-11-03  313.13  303.01  313.85  299.86  19724814.0   \n",
       "2021-11-04  sz.002594 2021-11-04  311.13  325.00  329.00  309.03  34996434.0   \n",
       "2021-11-05  sz.002594 2021-11-05  324.00  314.00  327.00  313.01  19418326.0   \n",
       "\n",
       "                turnover  pct_change  \n",
       "datetime                              \n",
       "2021-11-01  8.570610e+09     -2.9906  \n",
       "2021-11-02  9.102549e+09      3.9338  \n",
       "2021-11-03  6.017080e+09     -3.4631  \n",
       "2021-11-04  1.122398e+10      7.2572  \n",
       "2021-11-05  6.178126e+09     -3.3846  "
      ]
     },
     "execution_count": 6,
     "metadata": {},
     "output_type": "execute_result"
    }
   ],
   "source": [
    "from autoquant.collector import Collector\n",
    "from autoquant import Market\n",
    "from datetime import date\n",
    "\n",
    "\n",
    "collector = Collector.default()\n",
    "\n",
    "data = collector.daily_prices(market=Market.SZ, code='002594', start=date(2021, 11, 1), end=date(2021, 11, 5))\n",
    "data\n"
   ]
  },
  {
   "cell_type": "code",
   "execution_count": 8,
   "id": "779f5be6",
   "metadata": {},
   "outputs": [],
   "source": [
    "from scipy.stats import linregress\n",
    "import numpy as np\n",
    "\n",
    "def momentum(closes):\n",
    "    returns = np.log(closes)\n",
    "    x = np.arange(len(returns))\n",
    "    slope, _, rvalue, _, _ = linregress(x, returns)\n",
    "    return ((1 + slope) ** 252) * (rvalue ** 2)  # annualize slope and multiply by R^2\n"
   ]
  },
  {
   "cell_type": "code",
   "execution_count": null,
   "id": "a29ccaef",
   "metadata": {},
   "outputs": [],
   "source": []
  }
 ],
 "metadata": {
  "kernelspec": {
   "display_name": "Python 3.9.7 ('base')",
   "language": "python",
   "name": "python3"
  },
  "language_info": {
   "codemirror_mode": {
    "name": "ipython",
    "version": 3
   },
   "file_extension": ".py",
   "mimetype": "text/x-python",
   "name": "python",
   "nbconvert_exporter": "python",
   "pygments_lexer": "ipython3",
   "version": "3.9.7"
  },
  "vscode": {
   "interpreter": {
    "hash": "1815f9d04c57f241f39741b31d109e050fdfd1efacdeb4f904bbba7c051d9ab5"
   }
  }
 },
 "nbformat": 4,
 "nbformat_minor": 5
}

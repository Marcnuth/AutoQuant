{
 "cells": [
  {
   "cell_type": "code",
   "execution_count": null,
   "id": "eb792d27",
   "metadata": {},
   "outputs": [],
   "source": [
    "class Momentum(bt.Indicator):\n",
    "    lines = ('trend',)\n",
    "    params = (('period', 90),)\n",
    "\n",
    "    def __init__(self):\n",
    "        self.addminperiod(self.params.period)\n",
    "\n",
    "    def next(self):\n",
    "        returns = np.log(self.data.get(size=self.p.period))\n",
    "        x = np.arange(len(returns))\n",
    "        slope, _, rvalue, _, _ = linregress(x, returns)\n",
    "        annualized = (1 + slope) ** 252\n",
    "        self.lines.trend[0] = annualized * (rvalue ** 2)"
   ]
  },
  {
   "cell_type": "code",
   "execution_count": null,
   "id": "27af2ad6",
   "metadata": {},
   "outputs": [],
   "source": [
    "class Strategy(bt.Strategy):\n",
    "    params = dict(\n",
    "        momentum=Momentum,  # parametrize the momentum and its period\n",
    "        momentum_period=90,\n",
    "\n",
    "        movav=bt.ind.SMA,  # parametrize the moving average and its periods\n",
    "        idx_period=200,\n",
    "        stock_period=100,\n",
    "\n",
    "        volatr=bt.ind.ATR,  # parametrize the volatility and its period\n",
    "        vol_period=20,\n",
    "    )\n",
    "\n",
    "\n",
    "    def __init__(self):\n",
    "        # self.i = 0  # See below as to why the counter is commented out\n",
    "        self.inds = collections.defaultdict(dict)  # avoid per data dct in for\n",
    "\n",
    "        # Use \"self.data0\" (or self.data) in the script to make the naming not\n",
    "        # fixed on this being a \"spy\" strategy. Keep things generic\n",
    "        # self.spy = self.datas[0]\n",
    "        self.stocks = self.datas[1:]\n",
    "\n",
    "        # Again ... remove the name \"spy\"\n",
    "        self.idx_mav = self.p.movav(self.data0, period=self.p.idx_period)\n",
    "        for d in self.stocks:\n",
    "            self.inds[d]['mom'] = self.p.momentum(d, period=self.momentum_period)\n",
    "            self.inds[d]['mav'] = self.p.movav(d, period=self.p.stock_period)\n",
    "            self.inds[d]['vol'] = self.p.volatr(d, period=self.p.vol_period)"
   ]
  }
 ],
 "metadata": {
  "kernelspec": {
   "display_name": "Python 3 (ipykernel)",
   "language": "python",
   "name": "python3"
  },
  "language_info": {
   "codemirror_mode": {
    "name": "ipython",
    "version": 3
   },
   "file_extension": ".py",
   "mimetype": "text/x-python",
   "name": "python",
   "nbconvert_exporter": "python",
   "pygments_lexer": "ipython3",
   "version": "3.9.7"
  }
 },
 "nbformat": 4,
 "nbformat_minor": 5
}
